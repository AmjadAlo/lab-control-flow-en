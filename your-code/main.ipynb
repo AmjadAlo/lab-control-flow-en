{
  "cells": [
    {
      "cell_type": "markdown",
      "metadata": {
        "id": "BDLogWl5-HrN"
      },
      "source": [
        "## Words"
      ]
    },
    {
      "cell_type": "code",
      "execution_count": 1,
      "metadata": {
        "id": "fDxs0hij-HrQ"
      },
      "outputs": [],
      "source": [
        "words = ['play', 'filling', 'bar', 'theatre', 'easygoing', 'date', 'lead', 'that', 'story',  'island']"
      ]
    },
    {
      "cell_type": "markdown",
      "metadata": {
        "id": "kqXY-RU0-HrR"
      },
      "source": [
        "**Print every word in upper case**"
      ]
    },
    {
      "cell_type": "code",
      "execution_count": 2,
      "metadata": {
        "colab": {
          "base_uri": "https://localhost:8080/"
        },
        "id": "mqP99JOs-HrR",
        "outputId": "f664a62a-a05c-4c11-86fb-28bdc3cddad5"
      },
      "outputs": [
        {
          "output_type": "stream",
          "name": "stdout",
          "text": [
            "PLAY\n",
            "FILLING\n",
            "BAR\n",
            "THEATRE\n",
            "EASYGOING\n",
            "DATE\n",
            "LEAD\n",
            "THAT\n",
            "STORY\n",
            "ISLAND\n"
          ]
        }
      ],
      "source": [
        "\n",
        "for oneWord in words:\n",
        "  print(oneWord.upper())\n"
      ]
    },
    {
      "cell_type": "markdown",
      "metadata": {
        "id": "EeXNwxxR-HrR"
      },
      "source": [
        "**Create a new list containing only words with 5 or more letters**"
      ]
    },
    {
      "cell_type": "code",
      "execution_count": 3,
      "metadata": {
        "colab": {
          "base_uri": "https://localhost:8080/"
        },
        "id": "5BPuZeII-HrS",
        "outputId": "ce299ea5-8672-4e18-fed5-e2bcc829b00d"
      },
      "outputs": [
        {
          "output_type": "stream",
          "name": "stdout",
          "text": [
            "['filling', 'theatre', 'easygoing', 'story', 'island']\n"
          ]
        }
      ],
      "source": [
        "# your code here\n",
        "newList =[oneWord for oneWord in words if len(oneWord)==5 or len(oneWord)>5 ]\n",
        "\n",
        "print(newList)"
      ]
    },
    {
      "cell_type": "markdown",
      "metadata": {
        "id": "UOaB4EHs-HrS"
      },
      "source": [
        "**Print the first word starting with \"t\"**"
      ]
    },
    {
      "cell_type": "code",
      "execution_count": 5,
      "metadata": {
        "colab": {
          "base_uri": "https://localhost:8080/"
        },
        "id": "oE_WiYPt-HrS",
        "outputId": "85eaef7f-da82-40bc-dcbc-fad75e7af948"
      },
      "outputs": [
        {
          "output_type": "stream",
          "name": "stdout",
          "text": [
            "['theatre', 'that']\n"
          ]
        }
      ],
      "source": [
        "# your code here\n",
        "newList =[]\n",
        "for oneWord in words:\n",
        "  if oneWord.startswith('t'):\n",
        "    newList.append(oneWord)\n",
        "print(newList)\n"
      ]
    },
    {
      "cell_type": "markdown",
      "metadata": {
        "id": "tWKv8ClO-HrT"
      },
      "source": [
        "## Numbers"
      ]
    },
    {
      "cell_type": "markdown",
      "metadata": {
        "id": "STkFTqEA-HrT"
      },
      "source": [
        "**Create a list containing the square of every number from 1 to 10**"
      ]
    },
    {
      "cell_type": "code",
      "execution_count": 6,
      "metadata": {
        "colab": {
          "base_uri": "https://localhost:8080/"
        },
        "id": "_Z3u7zMM-HrT",
        "outputId": "8105ccb7-8470-44f3-c6c6-ae017104213b"
      },
      "outputs": [
        {
          "output_type": "stream",
          "name": "stdout",
          "text": [
            "[1, 4, 9, 16, 25, 36, 49, 64, 81, 100]\n"
          ]
        }
      ],
      "source": [
        "# your code here\n",
        "newList =[]\n",
        "for i in range(1,11):\n",
        "  newList.append(i**2)\n",
        "print(newList)\n",
        ""
      ]
    },
    {
      "cell_type": "markdown",
      "metadata": {
        "id": "DYXjowSV-HrT"
      },
      "source": [
        "**Print a list containing the square of every odd number from 1 to 10**"
      ]
    },
    {
      "cell_type": "code",
      "execution_count": 19,
      "metadata": {
        "colab": {
          "base_uri": "https://localhost:8080/"
        },
        "id": "okgBMENx-HrU",
        "outputId": "6ca5a4b2-d0ee-4538-d668-be207f313f57"
      },
      "outputs": [
        {
          "output_type": "stream",
          "name": "stdout",
          "text": [
            "[1, 9, 25, 49, 81]\n"
          ]
        }
      ],
      "source": [
        "# your code here\n",
        "sNumbers = [num **2 for num in  range(1,11) if num %2 !=0 ]\n",
        "\n",
        "print(sNumbers)\n",
        "\n"
      ]
    },
    {
      "cell_type": "markdown",
      "metadata": {
        "id": "oUSZQJMT-HrU"
      },
      "source": [
        "**Create a list with the squares of all multiples of 8 below 1000**"
      ]
    },
    {
      "cell_type": "code",
      "execution_count": 18,
      "metadata": {
        "colab": {
          "base_uri": "https://localhost:8080/"
        },
        "id": "p44V19KS-HrU",
        "outputId": "8f0ee01c-09ff-45f2-c986-26398a1b12f8"
      },
      "outputs": [
        {
          "output_type": "stream",
          "name": "stdout",
          "text": [
            "[64, 256, 576, 1024, 1600, 2304, 3136, 4096, 5184, 6400, 7744, 9216, 10816, 12544, 14400, 16384, 18496, 20736, 23104, 25600, 28224, 30976, 33856, 36864, 40000, 43264, 46656, 50176, 53824, 57600, 61504, 65536, 69696, 73984, 78400, 82944, 87616, 92416, 97344, 102400, 107584, 112896, 118336, 123904, 129600, 135424, 141376, 147456, 153664, 160000, 166464, 173056, 179776, 186624, 193600, 200704, 207936, 215296, 222784, 230400, 238144, 246016, 254016, 262144, 270400, 278784, 287296, 295936, 304704, 313600, 322624, 331776, 341056, 350464, 360000, 369664, 379456, 389376, 399424, 409600, 419904, 430336, 440896, 451584, 462400, 473344, 484416, 495616, 506944, 518400, 529984, 541696, 553536, 565504, 577600, 589824, 602176, 614656, 627264, 640000, 652864, 665856, 678976, 692224, 705600, 719104, 732736, 746496, 760384, 774400, 788544, 802816, 817216, 831744, 846400, 861184, 876096, 891136, 906304, 921600, 937024, 952576, 968256, 984064]\n"
          ]
        }
      ],
      "source": [
        "# your code here\n",
        "sNumbers = [i for i in range(8,1000,8)]\n",
        "sq=[i**2 for i in sNumbers]\n",
        "print(sq)"
      ]
    },
    {
      "cell_type": "markdown",
      "metadata": {
        "id": "ioRxom2a-HrU"
      },
      "source": [
        "## People"
      ]
    },
    {
      "cell_type": "code",
      "execution_count": 9,
      "metadata": {
        "id": "R65I-Jej-HrU"
      },
      "outputs": [],
      "source": [
        "people = [\n",
        "    {\n",
        "        \"name\": \"Juan\",\n",
        "        \"age\": 34,\n",
        "        \"n_kids\": 2\n",
        "    },\n",
        "    {\n",
        "        \"name\": \"Pepe\",\n",
        "        \"age\": 27,\n",
        "        \"n_kids\": 0\n",
        "    },\n",
        "    {\n",
        "        \"name\": \"Sonia\",\n",
        "        \"age\": 41,\n",
        "        \"n_kids\": 1\n",
        "    },\n",
        "    {\n",
        "        \"name\": \"Lucía\",\n",
        "        \"age\": 22,\n",
        "        \"n_kids\": 2\n",
        "    },\n",
        "    {\n",
        "        \"name\": \"Leo\",\n",
        "        \"age\": 55,\n",
        "        \"n_kids\": 5\n",
        "    }\n",
        "]"
      ]
    },
    {
      "cell_type": "markdown",
      "metadata": {
        "id": "ctlLBWEF-HrU"
      },
      "source": [
        "**How many people are there?**"
      ]
    },
    {
      "cell_type": "code",
      "execution_count": 10,
      "metadata": {
        "colab": {
          "base_uri": "https://localhost:8080/"
        },
        "id": "XWvYfPnA-HrV",
        "outputId": "d367bf68-991a-452d-ebd6-6cd075e49c11"
      },
      "outputs": [
        {
          "output_type": "execute_result",
          "data": {
            "text/plain": [
              "5"
            ]
          },
          "metadata": {},
          "execution_count": 10
        }
      ],
      "source": [
        "# your code here\n",
        "len(people)"
      ]
    },
    {
      "cell_type": "markdown",
      "metadata": {
        "id": "8aUwAAzV-HrV"
      },
      "source": [
        "**How many people have kids**?"
      ]
    },
    {
      "cell_type": "code",
      "execution_count": 11,
      "metadata": {
        "colab": {
          "base_uri": "https://localhost:8080/"
        },
        "id": "sMy7x_rp-HrV",
        "outputId": "f5b9a6f8-42f2-406e-ecca-074ecaf9915f"
      },
      "outputs": [
        {
          "output_type": "stream",
          "name": "stdout",
          "text": [
            "4\n"
          ]
        }
      ],
      "source": [
        "# your code here\n",
        "people_with_kids = len([person for person in people if person['n_kids'] > 0])\n",
        "print(people_with_kids)\n"
      ]
    },
    {
      "cell_type": "markdown",
      "metadata": {
        "id": "7Xz9w3f0-HrV"
      },
      "source": [
        "**How many kids do they have in total?**"
      ]
    },
    {
      "cell_type": "code",
      "execution_count": 12,
      "metadata": {
        "colab": {
          "base_uri": "https://localhost:8080/"
        },
        "id": "M_cPAE7b-HrV",
        "outputId": "a5f9e766-c294-4915-c4fa-cdc59bfa534e"
      },
      "outputs": [
        {
          "output_type": "stream",
          "name": "stdout",
          "text": [
            "10\n"
          ]
        }
      ],
      "source": [
        "# your code here\n",
        "totalKids= sum(person['n_kids'] for person in people)\n",
        "print(totalKids)"
      ]
    },
    {
      "cell_type": "markdown",
      "metadata": {
        "id": "vcusJzpJ-HrV"
      },
      "source": [
        "**In a year's time, names ending with \"a\" will have an extra kid. Create a list of dictionaries with people's info in a year's time**"
      ]
    },
    {
      "cell_type": "code",
      "execution_count": 13,
      "metadata": {
        "colab": {
          "base_uri": "https://localhost:8080/"
        },
        "id": "aysEmUZQ-HrV",
        "outputId": "26a8dc36-628b-4608-ff74-d4996848545f"
      },
      "outputs": [
        {
          "output_type": "execute_result",
          "data": {
            "text/plain": [
              "[{'name': 'Juan', 'age': 34, 'n_kids': 2},\n",
              " {'name': 'Pepe', 'age': 27, 'n_kids': 0},\n",
              " {'name': 'Sonia', 'age': 41, 'n_kids': 2},\n",
              " {'name': 'Lucía', 'age': 22, 'n_kids': 3},\n",
              " {'name': 'Leo', 'age': 55, 'n_kids': 5}]"
            ]
          },
          "metadata": {},
          "execution_count": 13
        }
      ],
      "source": [
        "# your code here\n",
        "from copy import deepcopy\n",
        "\n",
        "# Create a new list where we adjust the number of kids for people with names ending in \"a\"\n",
        "people_in_one_year = deepcopy(people)\n",
        "\n",
        "for person in people_in_one_year:\n",
        "    if person['name'].endswith('a'):\n",
        "        person['n_kids'] += 1\n",
        "\n",
        "people_in_one_year\n"
      ]
    }
  ],
  "metadata": {
    "kernelspec": {
      "display_name": "Python 3 (ipykernel)",
      "language": "python",
      "name": "python3"
    },
    "language_info": {
      "codemirror_mode": {
        "name": "ipython",
        "version": 3
      },
      "file_extension": ".py",
      "mimetype": "text/x-python",
      "name": "python",
      "nbconvert_exporter": "python",
      "pygments_lexer": "ipython3",
      "version": "3.9.13"
    },
    "toc": {
      "base_numbering": 1,
      "nav_menu": {},
      "number_sections": false,
      "sideBar": true,
      "skip_h1_title": false,
      "title_cell": "Table of Contents",
      "title_sidebar": "Contents",
      "toc_cell": false,
      "toc_position": {},
      "toc_section_display": true,
      "toc_window_display": true
    },
    "varInspector": {
      "cols": {
        "lenName": 16,
        "lenType": 16,
        "lenVar": 40
      },
      "kernels_config": {
        "python": {
          "delete_cmd_postfix": "",
          "delete_cmd_prefix": "del ",
          "library": "var_list.py",
          "varRefreshCmd": "print(var_dic_list())"
        },
        "r": {
          "delete_cmd_postfix": ") ",
          "delete_cmd_prefix": "rm(",
          "library": "var_list.r",
          "varRefreshCmd": "cat(var_dic_list()) "
        }
      },
      "types_to_exclude": [
        "module",
        "function",
        "builtin_function_or_method",
        "instance",
        "_Feature"
      ],
      "window_display": false
    },
    "vscode": {
      "interpreter": {
        "hash": "aee8b7b246df8f9039afb4144a1f6fd8d2ca17a180786b69acc140d282b71a49"
      }
    },
    "colab": {
      "provenance": []
    }
  },
  "nbformat": 4,
  "nbformat_minor": 0
}